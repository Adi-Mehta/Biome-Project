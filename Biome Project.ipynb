{
 "cells": [
  {
   "cell_type": "markdown",
   "metadata": {},
   "source": [
    "# <span style=\"color:teal;\">  &nbsp; Bears and Fish Project</span>"
   ]
  },
  {
   "cell_type": "markdown",
   "metadata": {},
   "source": [
    "##  <span style=\"color:teal;\">Overview</span> "
   ]
  },
  {
   "cell_type": "markdown",
   "metadata": {},
   "source": [
    "This is a cellular automaton style biological simulation.  \n",
    "\n",
    "The project has three main parts:\n",
    "* A class named World that defines a 2D grid where cells are accessed according to their row and column coordinates\n",
    "* Classes for Bear and Fish, the organisms that can inhabit the world\n",
    "* Two top level functions, `wbf` and `step_system`; the first will make a world and populate it at random with bears and fish, and the second will run a simulation using that world."
   ]
  },
  {
   "cell_type": "markdown",
   "metadata": {},
   "source": [
    "##  <span style=\"color:teal;\">Libraries</span> "
   ]
  },
  {
   "cell_type": "code",
   "execution_count": 4,
   "metadata": {},
   "outputs": [],
   "source": [
    "IPython = (__doc__ is not None) and ('IPython' in __doc__)\n",
    "Main    = __name__ == '__main__'\n",
    "\n",
    "import numpy as np\n",
    "from random import randint"
   ]
  },
  {
   "cell_type": "markdown",
   "metadata": {},
   "source": [
    "##  <span style=\"color:teal;\">World</span>"
   ]
  },
  {
   "cell_type": "markdown",
   "metadata": {},
   "source": [
    "Write the code for the World class in the code cell below.\n",
    "\n",
    "Define the following methods:\n",
    "* `add` will be passed an object and a location; it should store the object in the specified location \n",
    "* `fetch` should return the current contents of a location (which may be `None`)\n",
    "* `remove` should set a location to `None`.\n",
    "\n",
    "Finally, define a method named `biota` that will return a list of all items currently in the world."
   ]
  },
  {
   "cell_type": "markdown",
   "metadata": {},
   "source": [
    "##### <span style=color:red>Code</span> "
   ]
  },
  {
   "cell_type": "markdown",
   "metadata": {},
   "source": [
    "**Important** Write the definition of your World class in the following code cell. Do not delete or move this cell."
   ]
  },
  {
   "cell_type": "code",
   "execution_count": 18,
   "metadata": {
    "deletable": false,
    "nbgrader": {
     "checksum": "9ebe2ab2a5585a69d07043b15d9bc168",
     "grade": true,
     "grade_id": "world",
     "locked": false,
     "points": 10,
     "schema_version": 1,
     "solution": true
    }
   },
   "outputs": [],
   "source": [
    "class World:\n",
    "    \"\"\"\n",
    "    A World object represents a grid object that contains a length and width.\n",
    "    It is given rows and columns with the default value for each element being None.\n",
    "    \"\"\"\n",
    "    \n",
    "    def __init__(self, row, column):\n",
    "        self._row = row\n",
    "        self._column = column\n",
    "        self._w = np.full([row, column], None)\n",
    "        \n",
    "    def __repr__(self):\n",
    "        return np.array_repr(self._w)\n",
    "    \n",
    "    def __getitem__(self, loc):\n",
    "        return self._w[loc]\n",
    "    \n",
    "    def __setitem__(self, loc, val):\n",
    "        self._w[loc] = val\n",
    "    \n",
    "    def add(self, obj, loc):\n",
    "        \"\"\"\n",
    "        Stores the given value in a specified location.\n",
    "        Parameters:\n",
    "            self: Mandatory value in order to access values\n",
    "            obj: The desired object to be placed\n",
    "            loc: The location where the object is to be placed\n",
    "        Returns:\n",
    "            None: sets location equal to an object\n",
    "        Rtype:\n",
    "            :None\n",
    "        \"\"\"\n",
    "        self._w[loc] = obj\n",
    "    \n",
    "    def fetch(self, loc):\n",
    "        \"\"\"\n",
    "        Returns the object at the position specified.\n",
    "        Parameters:\n",
    "            self: Mandatory value in order to access values\n",
    "            loc: The location where the object is to be retrieved\n",
    "        Returns:\n",
    "            :The object at the given location, can be None if nothing is in position\n",
    "        Rtype:\n",
    "            :Animal Object\n",
    "        \"\"\"\n",
    "        return self._w[loc]\n",
    "    \n",
    "    def remove(self, item, loc):\n",
    "        \"\"\"\n",
    "        Sets the given location to none if the item \n",
    "        Parameters:\n",
    "            self: Mandatory value in order to access values\n",
    "            item: the item at said location\n",
    "            loc: The location where the object is to be retrieved\n",
    "        Returns:\n",
    "            None: removes the object from the location in the World grid\n",
    "        Rtype:\n",
    "            :None\n",
    "        \"\"\"\n",
    "        if self._w[loc] == item:\n",
    "            self._w[loc] = None\n",
    "\n",
    "    def biota(self):\n",
    "        \"\"\"\n",
    "        Returns a list of all the objects within the World object Grid.\n",
    "        Parameters:\n",
    "            self: Mandatory value in order to access values within class\n",
    "        Returns:\n",
    "            li: A list of all the objects in the World object Grid\n",
    "        Rtype:\n",
    "            List: A list object\n",
    "        \"\"\"\n",
    "        li = []\n",
    "        for i in range(self._row):\n",
    "            for j in range(self._column):\n",
    "                if self._w[i, j] != None:\n",
    "                    li.append(self._w[i, j])\n",
    "        return li\n"
   ]
  },
  {
   "cell_type": "markdown",
   "metadata": {},
   "source": [
    "##### <span style=\"color:red\">Tests to ensure code is correct:</span>"
   ]
  },
  {
   "cell_type": "code",
   "execution_count": 19,
   "metadata": {
    "deletable": false,
    "editable": false,
    "nbgrader": {
     "checksum": "6cc270c952eb97c51252a67453d9bd65",
     "grade": true,
     "grade_id": "world_test_1",
     "locked": true,
     "points": 1,
     "schema_version": 1,
     "solution": false
    }
   },
   "outputs": [],
   "source": [
    "# A new world has no objects\n",
    "w0 = World(5,5)\n",
    "\n",
    "assert len(w0.biota()) == 0"
   ]
  },
  {
   "cell_type": "code",
   "execution_count": 20,
   "metadata": {
    "deletable": false,
    "editable": false,
    "nbgrader": {
     "checksum": "84e27b202311eb8632a14eba67a0faf7",
     "grade": true,
     "grade_id": "world_test_2",
     "locked": true,
     "points": 2,
     "schema_version": 1,
     "solution": false
    }
   },
   "outputs": [],
   "source": [
    "# Test the add and fetch operators\n",
    "w1 = World(5,5)\n",
    "\n",
    "w1.add('hello', (0,0))\n",
    "w1.add('world', (1,1))\n",
    "\n",
    "assert w1.fetch((0,0)) == 'hello'\n",
    "assert w1.fetch((1,1)) == 'world'"
   ]
  },
  {
   "cell_type": "code",
   "execution_count": 21,
   "metadata": {
    "deletable": false,
    "editable": false,
    "nbgrader": {
     "checksum": "f4d1eb934d8521ec608a3fe11d47f84b",
     "grade": true,
     "grade_id": "world_test_3",
     "locked": true,
     "points": 2,
     "schema_version": 1,
     "solution": false
    }
   },
   "outputs": [],
   "source": [
    "# Test the remove and biota methods\n",
    "w2 = World(5,5)\n",
    "\n",
    "w2.add('hello', (0,0))\n",
    "w2.add('world', (1,1))\n",
    "\n",
    "assert sorted(w2.biota()) == ['hello','world']\n",
    "\n",
    "w2.remove('hello', (0,0))\n",
    "w2.remove('world', (1,1))\n",
    "\n",
    "assert w2.biota() == []"
   ]
  },
  {
   "cell_type": "markdown",
   "metadata": {
    "deletable": false,
    "nbgrader": {
     "checksum": "01f3afaf338295648a9e34f9ecbb2a59",
     "grade": true,
     "grade_id": "world_doc",
     "locked": false,
     "points": 5,
     "schema_version": 1,
     "solution": true
    }
   },
   "source": [
    "Grader Comments Cell:"
   ]
  },
  {
   "cell_type": "markdown",
   "metadata": {
    "collapsed": true
   },
   "source": [
    "## <span style=\"color:teal;\">Fish and Bears</span>"
   ]
  },
  {
   "cell_type": "markdown",
   "metadata": {},
   "source": [
    "To run a simulation we need to add a random collection of animals to the world.  The two types of animals in this simulation are fish and bears, and you will write class definitions named Fish and Bear that implement the behaviors of the animals."
   ]
  },
  {
   "cell_type": "markdown",
   "metadata": {},
   "source": [
    "### Fish Class"
   ]
  },
  {
   "cell_type": "markdown",
   "metadata": {},
   "source": [
    "During the simulation a Fish object needs to behave as follows:\n",
    "\n",
    "(1) Fish are susceptible to overcrowding:  if there are fish in 2 or more neighboring cells the fish dies (it's removed from the simulation)\n",
    "\n",
    "(2) A fish can reproduce if it has been alive for a certain number of time steps: a random neighboring cell is chosen, and if that cell is empty, a new fish is placed in that cell\n",
    "\n",
    "(3) A fish can move to another cell:  it picks a random direction, and if the neighboring cell in that direction is unoccupied the fish moves there\n",
    "\n",
    "The class should include the following methods:\n",
    "* `live` implements rules 1 and 2 shown above\n",
    "* `move` implements rule 3\n",
    "* `location` returns the current grid location (row and column) of the object\n",
    "\n",
    "Define a class variable named `breed_interval` to specify how many time steps a fish must be alive before it reproduces; the initial value for this variable is 12."
   ]
  },
  {
   "cell_type": "markdown",
   "metadata": {},
   "source": [
    "### Bear Class"
   ]
  },
  {
   "cell_type": "markdown",
   "metadata": {},
   "source": [
    "During the simulation a Bear object needs to behave as follows:\n",
    "\n",
    "(1) A bear looks for fish in each adjacent cell; if it finds one or more fish it eats one at random \n",
    "\n",
    "(2) If a bear has not eaten for certain number of time steps it dies (it's removed from the simulation)\n",
    "\n",
    "(3) A bear can reproduce if it has been alive for a certain number of time steps: a random neighboring cell is chosen, and if that cell is empty, a new bear is placed in that cell\n",
    "\n",
    "(4) A bear can move to another cell:  it picks a random direction, and if the neighboring cell in that direction is unoccupied the bear moves there\n",
    "\n",
    "Define a class variable named `breed_interval` to specify how many time steps a bear must be alive before it reproduces; the initial value for this variable is 8.  Define another class variable named `survive_without_food` to be the number of time steps a bear can live before it dies from starvation; the initial value for this variable is 10.\n",
    "\n",
    "The class should include the following methods:\n",
    "* `live` implements rules 1, 2, and 3 shown above\n",
    "* `move` implements rule 4\n",
    "* `location` returns the current grid location (row and column) of the object"
   ]
  },
  {
   "cell_type": "markdown",
   "metadata": {},
   "source": [
    "### Animal (Base Class)?"
   ]
  },
  {
   "cell_type": "markdown",
   "metadata": {},
   "source": [
    "### Details and Hints"
   ]
  },
  {
   "cell_type": "markdown",
   "metadata": {},
   "source": [
    "**Incremental Development:**  One strategy you might consider is to write a complete implementation for one class, either Bear or Fish.  After you have debugged the class and it passes its unit tests you'll have a better idea of what to implement in the other class.  Then you can start moving common behaviors to the Animal class while you are writing the other derived class.\n",
    "\n",
    "**Fish:** &nbsp; The way the simulation is defined a fish might be eaten before the top level simulation calls the `live` method.  Your `live` method should check to make sure the fish is still alive.  The easiest way to do this is to include an instance variable named `_alive` that is set to True when the fish is initialized and set to False when it dies.\n",
    "\n",
    "You can have additional instance methods, class variables, or class methods.  Make sure you describe any new additions in the documentation.\n",
    "\n",
    "**Animal:** &nbsp; Keep this in mind when you design the class hierarchy: every object has an attribute named ``__class__`` (with two underscores before and after the name).  It is a reference to the class an object was defined with.  As an example of how to use it, consider what would happen if we want to define `reproduce` in the Animal class so it is inherited by both Fish and Bear classes.  We need to know the value of `breed_interval` in each object's own class.  We can find this value using the expression\n",
    "```\n",
    "self.__class__.breed_interval\n",
    "```\n",
    "This will be a reference to `Fish.breed_interval` or `Bear.breed_interval`, depending on whether a `reproduce` was called with Fish object or Bear object.\n"
   ]
  },
  {
   "cell_type": "markdown",
   "metadata": {
    "collapsed": true
   },
   "source": [
    "### <span style=\"color:teal;\">Animal (15 points)</span>"
   ]
  },
  {
   "cell_type": "markdown",
   "metadata": {},
   "source": [
    "From the descriptions above it should be apparent that fish and bears have some things in common.\n",
    "\n",
    "Define a class named Animal and use it as the base class for your Fish and Bear classes.  Some things to think about as you design your classes:\n",
    "* are there behaviors or operations that are common to both and that can be implemented just once in Animal?\n",
    "* perhaps a behavior or operation can be defined with a default in the Animal class, and then overridden in the derived class?\n"
   ]
  },
  {
   "cell_type": "markdown",
   "metadata": {},
   "source": [
    "If you implement the Animal class write the definition in the following code cell\n",
    "\n",
    "**Important:** &nbsp; Do not delete or move this cell."
   ]
  },
  {
   "cell_type": "code",
   "execution_count": 22,
   "metadata": {
    "deletable": false,
    "nbgrader": {
     "checksum": "3ab9549a288942d068326e50e49d4d3e",
     "grade": true,
     "grade_id": "animal",
     "locked": false,
     "points": 10,
     "schema_version": 1,
     "solution": true
    }
   },
   "outputs": [],
   "source": [
    "class Animal(World):\n",
    "    \"\"\"\n",
    "    An Animal class is used as the base class for the fish and bear objects that will be created later.\n",
    "    The animal class is within the World object. \n",
    "    \"\"\"\n",
    "    global_id=0\n",
    "    \n",
    "    def __init__(self, world, cords):\n",
    "        world.add(self,(cords))\n",
    "        self._w = world\n",
    "        self._location = cords\n",
    "        Animal.global_id+=1\n",
    "        self._name = Animal.global_id\n",
    "        \n",
    "    def __getitem__(self, loc):\n",
    "        return self._w[loc]\n",
    "    \n",
    "    def __setitem__(self, loc, val):\n",
    "        self._w[loc] = val\n",
    "    \n",
    "    def location(self):\n",
    "        \"\"\"\n",
    "        Returns location of Animal object\n",
    "        Parameters:\n",
    "            self: mandatory value in order to access values\n",
    "        Returns:\n",
    "            :location of the Animal object\n",
    "        Rtype:\n",
    "            :None\n",
    "        \"\"\"\n",
    "        return self._location\n",
    "    \n",
    "    def random_walk(self):\n",
    "        \"\"\"\n",
    "        Provides a random\n",
    "        Parameters:\n",
    "            self: mandatory value in order to access values\n",
    "        Returns:\n",
    "            :location of the Animal object\n",
    "        Rtype:\n",
    "            \n",
    "        \"\"\"\n",
    "        return self.get_move_dict()[randint(1,8)]\n",
    "    \n",
    "    def move(self):\n",
    "        \"\"\"\n",
    "        Returns location of Animal object after it is moved to a random location\n",
    "        Parameters:\n",
    "            self: mandatory value in order to access values\n",
    "        Returns:\n",
    "            :location of the Animal object after being randomly moved\n",
    "        Rtype:\n",
    "        \"\"\"\n",
    "        new_location=self.random_walk()\n",
    "        while self._w.fetch(new_location) != None:\n",
    "            new_location=self.random_walk()\n",
    "        self._w.remove(self,self._location)\n",
    "        self._w.add(self,new_location)\n",
    "        self._location=new_location\n",
    "        return self._location\n",
    "    \n",
    "    def get_move_dict(self):\n",
    "        \"\"\"\n",
    "        Creates a dictionary of all possible locations an Animal object can move in one step within the grid.\n",
    "        Parameters:\n",
    "            self: mandatory value in order to access values\n",
    "        Returns:\n",
    "            self.move_dict: dictionary of all possible locations for the object to move\n",
    "        Rtype: \n",
    "            Dictionary\n",
    "        \"\"\"\n",
    "        rows = self._w._row\n",
    "        colums = self._w._column\n",
    "        x,y = self._location\n",
    "        self.move_dict = {1:(x,y-1),\n",
    "                     2:(x,(y+1)%(rows)),\n",
    "                     3:(x-1,y),\n",
    "                     4:((x+1)%(colums),y),\n",
    "                     5:(x-1,y-1),\n",
    "                     6:(x-1,(y+1)%(rows)),\n",
    "                     7:((x+1)%(colums),y-1),\n",
    "                     8:((x+1)%(colums),(y+1)%(rows))\n",
    "                     }\n",
    "        return self.move_dict"
   ]
  },
  {
   "cell_type": "markdown",
   "metadata": {
    "deletable": false,
    "nbgrader": {
     "checksum": "a392aca77c7d06ae61b2854cb8aa25e7",
     "grade": true,
     "grade_id": "animal_doc",
     "locked": false,
     "points": 5,
     "schema_version": 1,
     "solution": true
    }
   },
   "source": [
    "Grader Comments Cell:"
   ]
  },
  {
   "cell_type": "markdown",
   "metadata": {
    "collapsed": true
   },
   "source": [
    "### <span style=\"color:teal;\">Fish (20 points)</span>"
   ]
  },
  {
   "cell_type": "code",
   "execution_count": 23,
   "metadata": {
    "deletable": false,
    "nbgrader": {
     "checksum": "e370f19380738e8e035b8a3de3696caa",
     "grade": true,
     "grade_id": "fish",
     "locked": false,
     "points": 7,
     "schema_version": 1,
     "solution": true
    }
   },
   "outputs": [],
   "source": [
    "class Fish(Animal):\n",
    "    \"\"\"\n",
    "    The Fish class is a subclass of the Animal class. It is an object found within the\n",
    "    World grid. \n",
    "    \"\"\"\n",
    "    breed_interval=12\n",
    "    \n",
    "    def __init__(self, world, coords):\n",
    "        Animal.__init__(self, world, coords)\n",
    "        self._alive = True\n",
    "        \n",
    "    def __repr__(self):\n",
    "        return \"{}{}\".format(u'\\U0001f41f',self._name)\n",
    "    \n",
    "    def _check_around(self,location):\n",
    "        \"\"\"\n",
    "        Checks around the Fish object at the given location and reteurns empty spots\n",
    "        Parameters:\n",
    "            self: mandatory value in order to access value\n",
    "            location: loation of Fish object\n",
    "        Return: \n",
    "            count: returns count of empty spaces around Fish object\n",
    "        Rtype: \n",
    "            integer\n",
    "        \"\"\"\n",
    "        x,y=location\n",
    "        count=0\n",
    "        rows = self._w._row\n",
    "        colums = self._w._column\n",
    "        move_dict = Animal.get_move_dict(self)\n",
    "        for key,value in move_dict.items():\n",
    "            if self._w.fetch(value)!=None:\n",
    "                count += 1\n",
    "        return count\n",
    "        \n",
    "    def live(self):\n",
    "        \"\"\"\n",
    "        Determines whether the Fish object is alive or not.\n",
    "        Parameters:\n",
    "            self: mandatory value in order to access values\n",
    "        Return:\n",
    "            None: sets whether the fish is alive or dead in boolean form\n",
    "        Rtype:\n",
    "            None\n",
    "        \"\"\"\n",
    "        self.breed_interval-=1\n",
    "        if self._alive ==True:\n",
    "            if self._check_around(self._location)>=2:\n",
    "                self._w.remove(self,self._location)\n",
    "                self._alive=False\n",
    "            if self.breed_interval==0:\n",
    "                breed_location=self.__class__.random_walk(self)\n",
    "                while self._w.fetch(breed_location) != None:\n",
    "                    breed_location=self.__class__.random_walk(self)\n",
    "                Fish(self._w, breed_location)\n",
    "                self.breed_interval=12"
   ]
  },
  {
   "cell_type": "markdown",
   "metadata": {},
   "source": [
    "##### <span style=\"color:red\">More Test:</span>"
   ]
  },
  {
   "cell_type": "code",
   "execution_count": 24,
   "metadata": {
    "deletable": false,
    "editable": false,
    "nbgrader": {
     "checksum": "fae00be4f7fe413602a94b30d590c08c",
     "grade": true,
     "grade_id": "fish_test_1",
     "locked": true,
     "points": 2,
     "schema_version": 1,
     "solution": false
    }
   },
   "outputs": [],
   "source": [
    "# A new world has no objects\n",
    "fw1 = World(5,5)\n",
    "assert len(fw1.biota()) == 0\n",
    "\n",
    "# After adding a fish there should be one object\n",
    "f1 = Fish(fw1, (2,2))\n",
    "assert len(fw1.biota()) == 1\n",
    "\n",
    "# Test the location method\n",
    "assert f1.location() == (2,2)"
   ]
  },
  {
   "cell_type": "code",
   "execution_count": 25,
   "metadata": {
    "deletable": false,
    "editable": false,
    "nbgrader": {
     "checksum": "5d2282142a347d36b86d7bc1e718bf08",
     "grade": true,
     "grade_id": "fish_test_2",
     "locked": true,
     "points": 2,
     "schema_version": 1,
     "solution": false
    }
   },
   "outputs": [],
   "source": [
    "# Setting breed_interval to 1 should cause a fish to reproduce when live is called\n",
    "fw2 = World(5,5)\n",
    "Fish.breed_interval = 1\n",
    "f2 = Fish(fw2, (2,2))\n",
    "f2.live()\n",
    "assert len(fw2.biota()) == 2\n",
    "\n",
    "# Reset the interval to original value for remaining tests\n",
    "Fish.breed_interval = 12"
   ]
  },
  {
   "cell_type": "code",
   "execution_count": 26,
   "metadata": {
    "deletable": false,
    "editable": false,
    "nbgrader": {
     "checksum": "53e0450a407237272e2d46ede7f45d96",
     "grade": true,
     "grade_id": "fish_test_3",
     "locked": true,
     "points": 2,
     "schema_version": 1,
     "solution": false
    }
   },
   "outputs": [],
   "source": [
    "# Make three fish, the one in the middle should die from overcrowding\n",
    "fw3 = World(5,5)\n",
    "f3 = Fish(fw3, (2,2))\n",
    "Fish(fw3, (1,1))\n",
    "Fish(fw3, (3,3))\n",
    "f3.live()\n",
    "assert len(fw3.biota()) == 2"
   ]
  },
  {
   "cell_type": "code",
   "execution_count": 27,
   "metadata": {
    "deletable": false,
    "editable": false,
    "nbgrader": {
     "checksum": "4f8e85b525f60697dcf3e4e8f08c9861",
     "grade": true,
     "grade_id": "fish_test_4",
     "locked": true,
     "points": 2,
     "schema_version": 1,
     "solution": false
    }
   },
   "outputs": [],
   "source": [
    "# When a fish moves it should be within one cell of its original location\n",
    "fw4 = World(5,5)\n",
    "f4 = Fish(fw4, (2,2))\n",
    "f4.move()\n",
    "r, c = f4.location()\n",
    "assert (r,c) != (2,2)\n",
    "assert abs(r-2) <= 1 and abs(c-2) <= 1"
   ]
  },
  {
   "cell_type": "markdown",
   "metadata": {
    "deletable": false,
    "nbgrader": {
     "checksum": "770b6a6bacc3948526ac069ce547b553",
     "grade": true,
     "grade_id": "fish_doc",
     "locked": false,
     "points": 5,
     "schema_version": 1,
     "solution": true
    }
   },
   "source": [
    "Grader Comments Cell:"
   ]
  },
  {
   "cell_type": "markdown",
   "metadata": {},
   "source": [
    "###  <span style=\"color:teal;\">Bear (20 points)</span>"
   ]
  },
  {
   "cell_type": "code",
   "execution_count": 29,
   "metadata": {
    "deletable": false,
    "nbgrader": {
     "checksum": "4caa2fe98c36ad7d876cb07eb412314c",
     "grade": true,
     "grade_id": "bear",
     "locked": false,
     "points": 7,
     "schema_version": 1,
     "solution": true
    }
   },
   "outputs": [],
   "source": [
    "class Bear(Animal):\n",
    "    \"\"\"\n",
    "    The Bear class is a subclass of the Animal class. It is an object found within the\n",
    "    World grid.\n",
    "    \"\"\"\n",
    "    breed_interval=8\n",
    "    survive_without_food=10\n",
    "    \n",
    "    def __init__(self, world, coords):\n",
    "        Animal.__init__(self, world, coords)\n",
    "        self._alive=True\n",
    "\n",
    "    def __repr__(self):\n",
    "        return \"{}{}\".format(u'\\U0001f43b',self._name)\n",
    "    \n",
    "    def _nearby_food(self,location):\n",
    "        \"\"\"\n",
    "        Searches blocks adjacent to the specified Bear objects position for a Fish object as food.\n",
    "        Parameters:\n",
    "            self: mandatory value in order to access values\n",
    "            location: location of the Bear object\n",
    "        Returns:\n",
    "            options_list: list of possible options for which fish the Bear object should eat\n",
    "        Rtype:\n",
    "            List object\n",
    "        \"\"\"\n",
    "        x,y=location\n",
    "        options_list=[]\n",
    "        rows = self._w._row\n",
    "        colums = self._w._column\n",
    "        move_dict = Animal.get_move_dict(self)\n",
    "        for key,value in move_dict.items():\n",
    "            if type(self._w.fetch(value))==Fish:\n",
    "                options_list.append(value)\n",
    "        return options_list\n",
    "                \n",
    "    def _eat(self):\n",
    "        \"\"\"\n",
    "        Determines whether there are multiple possible food options and randomly selects which fish to eat.\n",
    "        Parameters:\n",
    "            self: mandatory value in order to access values\n",
    "        Returns: \n",
    "            None: eats a Fish object and removes it from the World grid\n",
    "        Rtype:\n",
    "            :None\n",
    "        \"\"\"\n",
    "        food_options = self._nearby_food(self._location)\n",
    "        if len(food_options)>0:\n",
    "            chosen_fish_loc=food_options[randint(0,len(food_options)-1)]\n",
    "            chosen_fish=self._w.fetch(chosen_fish_loc)\n",
    "            chosen_fish._alive=False\n",
    "            self._w.remove(chosen_fish,chosen_fish_loc)\n",
    "            self.survive_without_food=10\n",
    "    \n",
    "    def live(self):\n",
    "        \"\"\"\n",
    "        Determines whether the Bear object is alive or not.\n",
    "        Parameters:\n",
    "            self: mandatory value in order to access values\n",
    "        Return:\n",
    "            None: sets whether the fish is alive or dead in boolean form\n",
    "        Rtype:\n",
    "            :None\n",
    "        \"\"\"\n",
    "        self.breed_interval-=1\n",
    "        self.survive_without_food-=1\n",
    "        if self.survive_without_food==0:\n",
    "            self._alive=False\n",
    "            self._w.remove(self,self._location)\n",
    "        if self._alive ==True:\n",
    "            self._eat()\n",
    "            if self.breed_interval==0:\n",
    "                breed_location=self.__class__.random_walk(self)\n",
    "                while self._w.fetch(breed_location) != None:\n",
    "                    breed_location=self.__class__.random_walk(self)\n",
    "                Bear(self._w, (breed_location))\n",
    "                self.breed_interval=8"
   ]
  },
  {
   "cell_type": "markdown",
   "metadata": {},
   "source": [
    "##### <span style=\"color:red\">More Tests:</span>"
   ]
  },
  {
   "cell_type": "code",
   "execution_count": 30,
   "metadata": {
    "deletable": false,
    "editable": false,
    "nbgrader": {
     "checksum": "aae25b64e80339920b2b6550d47f6c85",
     "grade": true,
     "grade_id": "bear_test_1",
     "locked": true,
     "points": 2,
     "schema_version": 1,
     "solution": false
    }
   },
   "outputs": [],
   "source": [
    "# Test the Bear constructor and location method\n",
    "bw1 = World(5,5)\n",
    "b1 = Bear(bw1, (1,1))\n",
    "assert len(bw1.biota()) == 1\n",
    "assert b1.location() == (1,1)"
   ]
  },
  {
   "cell_type": "code",
   "execution_count": 31,
   "metadata": {
    "deletable": false,
    "editable": false,
    "nbgrader": {
     "checksum": "e64012b3bc5e3d932dbff83f72102a52",
     "grade": true,
     "grade_id": "bear_test_2",
     "locked": true,
     "points": 2,
     "schema_version": 1,
     "solution": false
    },
    "scrolled": true
   },
   "outputs": [],
   "source": [
    "# Repeat the reproduction test for Bears\n",
    "bw2 = World(5,5)\n",
    "Bear.breed_interval = 1\n",
    "b2 = Bear(bw2, (2,2))\n",
    "b2.live()\n",
    "assert len(bw2.biota()) == 2\n",
    "Bear.breed_interval = 8"
   ]
  },
  {
   "cell_type": "code",
   "execution_count": 32,
   "metadata": {
    "deletable": false,
    "editable": false,
    "nbgrader": {
     "checksum": "5412f977900e48901b9405e95271b2bf",
     "grade": true,
     "grade_id": "bear_test_3",
     "locked": true,
     "points": 2,
     "schema_version": 1,
     "solution": false
    }
   },
   "outputs": [],
   "source": [
    "# Make fish for the bear to eat, count the number of objects after eating\n",
    "bw3 = World(5,5)\n",
    "b3 = Bear(bw3, (2,2))\n",
    "Fish(bw3, (1,1))\n",
    "Fish(bw3, (3,3))\n",
    "b3.live()\n",
    "assert len(bw3.biota()) == 2"
   ]
  },
  {
   "cell_type": "code",
   "execution_count": 33,
   "metadata": {
    "deletable": false,
    "editable": false,
    "nbgrader": {
     "checksum": "5b79fa59932c1f2443793c63405fd91e",
     "grade": true,
     "grade_id": "bear_test_4",
     "locked": true,
     "points": 2,
     "schema_version": 1,
     "solution": false
    }
   },
   "outputs": [],
   "source": [
    "# Setting the survival limit to 1 should cause a Bear to starve \n",
    "bw4 = World(5,5)\n",
    "Bear.survive_without_food = 1\n",
    "b4 = Bear(bw4, (2,2))\n",
    "b4.live()\n",
    "assert len(bw4.biota()) == 0\n",
    "Bear.survive_without_food = 10"
   ]
  },
  {
   "cell_type": "code",
   "execution_count": 34,
   "metadata": {
    "deletable": false,
    "editable": false,
    "nbgrader": {
     "checksum": "6de47b3ebef44d9eaa744094851d38c8",
     "grade": true,
     "grade_id": "bear_test_5",
     "locked": true,
     "points": 2,
     "schema_version": 1,
     "solution": false
    }
   },
   "outputs": [],
   "source": [
    "# Repeat the move test for bears\n",
    "bw5 = World(5,5)\n",
    "b5 = Bear(bw5, (2,2))\n",
    "b5.move()\n",
    "r, c = b5.location()\n",
    "assert (r,c) != (2,2)\n",
    "assert abs(r-2) <= 1 and abs(c-2) <= 1"
   ]
  },
  {
   "cell_type": "markdown",
   "metadata": {
    "deletable": false,
    "nbgrader": {
     "checksum": "745360994a43da361e98fe01baa7f1c2",
     "grade": true,
     "grade_id": "bear_doc",
     "locked": false,
     "points": 3,
     "schema_version": 1,
     "solution": true
    }
   },
   "source": [
    "Grader Comments Cell:"
   ]
  },
  {
   "cell_type": "markdown",
   "metadata": {
    "collapsed": true
   },
   "source": [
    "##  <span style=\"color:teal;\">The `wbf` Function</span>"
   ]
  },
  {
   "cell_type": "markdown",
   "metadata": {},
   "source": [
    "The `wbf` function so it returns a new World object with the specified number of rows and columns and with the specified number of Bear and Fish objects at random locations.\n",
    "\n",
    "When we grade your project we will call `wbf` to make a World object and then use the main loop (implemented by `step_system`) to run the simulation."
   ]
  },
  {
   "cell_type": "code",
   "execution_count": 35,
   "metadata": {
    "deletable": false,
    "nbgrader": {
     "checksum": "564fd80eb200839287efb2cff08097ef",
     "grade": true,
     "grade_id": "wbf",
     "locked": false,
     "points": 9,
     "schema_version": 1,
     "solution": true
    }
   },
   "outputs": [],
   "source": [
    "def wbf(nrows, ncols, nbears, nfish):\n",
    "    \"\"\"\n",
    "    Returns a World object with the specified number of Bears and Fish objects randomly throughout the grid with specified\n",
    "    length and width.\n",
    "    Paramters:\n",
    "        nrows: number of rows in the new World object\n",
    "        ncols: number of columns in the new World object\n",
    "        nbears: number of Bear objects in the new World object\n",
    "        nfish: number of Fish objects in the new World object\n",
    "    Returns:\n",
    "        world: A new World object with the specified number of Bears and Fish objects randomly throughout the grid\n",
    "    rtype:\n",
    "        World Object\n",
    "    \"\"\"\n",
    "    bear_count=0\n",
    "    fish_count=0\n",
    "    world= World(nrows,ncols)\n",
    "    \n",
    "    while bear_count<nbears:\n",
    "        bear_cord = (randint(0,nrows-1),randint(0,ncols-1))\n",
    "        if world.fetch(bear_cord)==None:\n",
    "            Bear(world,(bear_cord))\n",
    "            bear_count += 1\n",
    "            \n",
    "    while fish_count<nfish:\n",
    "        fish_cord = (randint(0,nrows-1),randint(0,ncols-1))\n",
    "        if world.fetch(fish_cord)==None:\n",
    "            Fish(world,(fish_cord))\n",
    "            fish_count += 1\n",
    "        \n",
    "    return world"
   ]
  },
  {
   "cell_type": "markdown",
   "metadata": {},
   "source": [
    "##### <span style=\"color:red\">Autograder Tests:</span>"
   ]
  },
  {
   "cell_type": "code",
   "execution_count": 37,
   "metadata": {
    "deletable": false,
    "editable": false,
    "nbgrader": {
     "checksum": "d46f3f598f19c9bd50c3d1999d2a080c",
     "grade": true,
     "grade_id": "wbf_test",
     "locked": true,
     "points": 3,
     "schema_version": 1,
     "solution": false
    }
   },
   "outputs": [],
   "source": [
    "w = wbf(10,10,3,12)\n",
    "dct = { Bear: 0, Fish: 0 }\n",
    "for x in w.biota():\n",
    "    dct[x.__class__] += 1\n",
    "\n",
    "assert dct[Bear] == 3\n",
    "assert dct[Fish] == 12"
   ]
  },
  {
   "cell_type": "markdown",
   "metadata": {
    "deletable": false,
    "nbgrader": {
     "checksum": "14872fdba29df6b85168b6ed26a9607e",
     "grade": true,
     "grade_id": "wbf_doc",
     "locked": false,
     "points": 3,
     "schema_version": 1,
     "solution": true
    }
   },
   "source": [
    "Grader Comments Cell:"
   ]
  },
  {
   "cell_type": "markdown",
   "metadata": {
    "collapsed": true
   },
   "source": [
    "##  <span style=\"color:teal;\">The `step_system` Function</span>"
   ]
  },
  {
   "cell_type": "code",
   "execution_count": 39,
   "metadata": {},
   "outputs": [],
   "source": [
    "def step_system(world):\n",
    "    for x in world.biota():\n",
    "        x.live()\n",
    "    for x in world.biota():\n",
    "        x.move()"
   ]
  },
  {
   "cell_type": "code",
   "execution_count": 40,
   "metadata": {},
   "outputs": [
    {
     "name": "stdout",
     "output_type": "stream",
     "text": [
      "array([[None, None, None, None, None, None, None, None, 🐟69, None],\n",
      "       [None, None, None, None, 🐟67, None, None, None, None, None],\n",
      "       [None, None, None, None, None, None, None, None, None, None],\n",
      "       [None, None, None, None, None, None, None, None, None, None],\n",
      "       [None, None, None, None, None, None, None, None, 🐟72, None],\n",
      "       [None, None, 🐟66, None, None, None, None, 🐟68, None, None],\n",
      "       [🐻63, None, None, None, 🐟71, None, None, None, None, 🐟64],\n",
      "       [🐟65, None, None, None, None, 🐟74, None, None, None, None],\n",
      "       [None, None, None, 🐟75, 🐻61, 🐻62, 🐟70, None, None, None],\n",
      "       [None, None, 🐟73, None, None, None, None, None, None, None]], dtype=object)\n",
      "array([[None, 🐟73, None, None, None, None, None, None, None, None],\n",
      "       [None, None, None, None, None, None, None, None, 🐟69, None],\n",
      "       [None, None, None, None, None, 🐟67, None, None, None, None],\n",
      "       [None, None, None, None, None, None, None, None, None, None],\n",
      "       [None, None, None, None, None, None, None, None, None, 🐟72],\n",
      "       [🐟64, None, None, None, 🐟71, None, None, None, 🐟68, None],\n",
      "       [None, None, 🐟66, None, None, None, None, None, None, None],\n",
      "       [None, 🐻63, None, None, None, 🐻62, None, None, None, None],\n",
      "       [None, None, None, None, None, None, None, None, None, None],\n",
      "       [None, None, None, None, None, 🐻61, None, None, None, None]], dtype=object)\n",
      "array([[None, None, None, None, None, None, None, None, None, 🐟69],\n",
      "       [None, None, None, None, None, None, None, None, None, None],\n",
      "       [None, None, None, None, None, None, None, None, None, None],\n",
      "       [None, None, None, None, None, None, 🐟67, None, None, None],\n",
      "       [🐟64, None, None, None, None, None, None, None, 🐟68, None],\n",
      "       [None, None, None, None, None, None, None, None, None, None],\n",
      "       [None, None, None, None, 🐟71, None, None, None, None, None],\n",
      "       [🐻63, None, None, None, 🐻62, None, None, None, None, None],\n",
      "       [None, None, None, None, 🐻61, None, None, None, None, None],\n",
      "       [🐟73, None, None, None, None, None, None, None, None, None]], dtype=object)\n"
     ]
    }
   ],
   "source": [
    "if IPython:\n",
    "    logging = True\n",
    "    w = wbf(10,10,3,12)\n",
    "    for i in range(3):\n",
    "        print(w)\n",
    "        step_system(w)"
   ]
  },
  {
   "cell_type": "markdown",
   "metadata": {
    "collapsed": true,
    "deletable": false,
    "nbgrader": {
     "checksum": "cc54d46b405cd1c694c7a930f2ede888",
     "grade": true,
     "grade_id": "experiments",
     "locked": false,
     "points": 10,
     "schema_version": 1,
     "solution": true
    }
   },
   "source": [
    "Grader Comments Cell:"
   ]
  }
 ],
 "metadata": {
  "anaconda-cloud": {},
  "kernelspec": {
   "display_name": "Python 3",
   "language": "python",
   "name": "python3"
  },
  "language_info": {
   "codemirror_mode": {
    "name": "ipython",
    "version": 3
   },
   "file_extension": ".py",
   "mimetype": "text/x-python",
   "name": "python",
   "nbconvert_exporter": "python",
   "pygments_lexer": "ipython3",
   "version": "3.6.3"
  }
 },
 "nbformat": 4,
 "nbformat_minor": 1
}
